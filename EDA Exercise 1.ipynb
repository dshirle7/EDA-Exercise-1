{
 "cells": [
  {
   "cell_type": "markdown",
   "metadata": {},
   "source": [
    "# What is the True Normal Human Body Temperature? \n",
    "\n",
    "#### Background\n",
    "\n",
    "The mean normal body temperature was held to be 37$^{\\circ}$C or 98.6$^{\\circ}$F for more than 120 years since it was first conceptualized and reported by Carl Wunderlich in a famous 1868 book. But, is this value statistically correct?"
   ]
  },
  {
   "cell_type": "markdown",
   "metadata": {},
   "source": [
    "<h3>Exercises</h3>\n",
    "\n",
    "<p>In this exercise, you will analyze a dataset of human body temperatures and employ the concepts of hypothesis testing, confidence intervals, and statistical significance.</p>\n",
    "\n",
    "<p>Answer the following questions <b>in this notebook below and submit to your Github account</b>.</p> \n",
    "\n",
    "<ol>\n",
    "<li>  Is the distribution of body temperatures normal? \n",
    "    <ul>\n",
    "    <li> Although this is not a requirement for the Central Limit Theorem to hold (read the introduction on Wikipedia's page about the CLT carefully: https://en.wikipedia.org/wiki/Central_limit_theorem), it gives us some peace of mind that the population may also be normally distributed if we assume that this sample is representative of the population.\n",
    "    <li> Think about the way you're going to check for the normality of the distribution. Graphical methods are usually used first, but there are also other ways: https://en.wikipedia.org/wiki/Normality_test\n",
    "    </ul>\n",
    "<li>  Is the sample size large? Are the observations independent?\n",
    "    <ul>\n",
    "    <li> Remember that this is a condition for the Central Limit Theorem, and hence the statistical tests we are using, to apply.\n",
    "    </ul>\n",
    "<li>  Is the true population mean really 98.6 degrees F?\n",
    "    <ul>\n",
    "    <li> First, try a bootstrap hypothesis test.\n",
    "    <li> Now, let's try frequentist statistical testing. Would you use a one-sample or two-sample test? Why?\n",
    "    <li> In this situation, is it appropriate to use the $t$ or $z$ statistic? \n",
    "    <li> Now try using the other test. How is the result be different? Why?\n",
    "    </ul>\n",
    "<li>  Draw a small sample of size 10 from the data and repeat both frequentist tests. \n",
    "    <ul>\n",
    "    <li> Which one is the correct one to use? \n",
    "    <li> What do you notice? What does this tell you about the difference in application of the $t$ and $z$ statistic?\n",
    "    </ul>\n",
    "<li>  At what temperature should we consider someone's temperature to be \"abnormal\"?\n",
    "    <ul>\n",
    "    <li> As in the previous example, try calculating everything using the boostrap approach, as well as the frequentist approach.\n",
    "    <li> Start by computing the margin of error and confidence interval. When calculating the confidence interval, keep in mind that you should use the appropriate formula for one draw, and not N draws.\n",
    "    </ul>\n",
    "<li>  Is there a significant difference between males and females in normal temperature?\n",
    "    <ul>\n",
    "    <li> What testing approach did you use and why?\n",
    "    <li> Write a story with your conclusion in the context of the original problem.\n",
    "    </ul>\n",
    "</ol>\n",
    "\n",
    "You can include written notes in notebook cells using Markdown: \n",
    "   - In the control panel at the top, choose Cell > Cell Type > Markdown\n",
    "   - Markdown syntax: http://nestacms.com/docs/creating-content/markdown-cheat-sheet\n",
    "\n",
    "#### Resources\n",
    "\n",
    "+ Information and data sources: http://www.amstat.org/publications/jse/datasets/normtemp.txt, http://www.amstat.org/publications/jse/jse_data_archive.htm\n",
    "+ Markdown syntax: http://nestacms.com/docs/creating-content/markdown-cheat-sheet\n",
    "\n",
    "****"
   ]
  },
  {
   "cell_type": "code",
   "execution_count": 2,
   "metadata": {},
   "outputs": [],
   "source": [
    "import numpy as np\n",
    "import pandas as pd\n",
    "import matplotlib.pyplot as plt\n",
    "from scipy.stats import normaltest, zscore\n",
    "\n",
    "df = pd.read_csv('data/human_body_temperature.csv')"
   ]
  },
  {
   "cell_type": "code",
   "execution_count": 2,
   "metadata": {},
   "outputs": [
    {
     "data": {
      "image/png": "[encoded data removed]",
      "text/plain": [
       "<matplotlib.figure.Figure at 0x2602686c898>"
      ]
     },
     "metadata": {},
     "output_type": "display_data"
    },
    {
     "name": "stdout",
     "output_type": "stream",
     "text": [
      "The p-value is 0.2587479863488254.\n"
     ]
    }
   ],
   "source": [
    "# 1. Is the distribution of body temperatures normal?\n",
    "\n",
    "# Visual check.\n",
    "\n",
    "graph = plt.hist(df['temperature'], bins=20)\n",
    "\n",
    "plt.show()\n",
    "\n",
    "# Appears normal from the graph. Use a test with 95% confidence.\n",
    "\n",
    "stats, p = normaltest(df['temperature'])\n",
    "\n",
    "print(f'The p-value is {p}.')\n",
    "\n",
    "# The p-value is significantly larger than 0.05. We should keep the null hypothesis and assume the distribution is normal."
   ]
  },
  {
   "cell_type": "code",
   "execution_count": 3,
   "metadata": {
    "scrolled": true
   },
   "outputs": [
    {
     "name": "stdout",
     "output_type": "stream",
     "text": [
      "130\n",
      "98.24923076923078 0.7303577789050377\n"
     ]
    }
   ],
   "source": [
    "# 2. Is the sample size large? Are the observations independent?\n",
    "\n",
    "print(df['temperature'].count())\n",
    "\n",
    "# The sample size is 130. Typically, the Central Limit Theorem requires samples of size 30 or larger.\n",
    "# So yes, the sample size is large.\n",
    "\n",
    "# Independence is a safe assumption for simple random samples of size less than 10 percent of the population.\n",
    "# So yes, the observations are independent.\n",
    "\n",
    "print(np.mean(df['temperature']), np.std(df['temperature']))"
   ]
  },
  {
   "cell_type": "code",
   "execution_count": 4,
   "metadata": {},
   "outputs": [
    {
     "name": "stdout",
     "output_type": "stream",
     "text": [
      "95% confidence interval for the population mean: [98.12153846 98.37538462]\n",
      "98.6 does not fall within the 95% confidence interval of our bootstrap.\n",
      "A temperature of 98.6 has a z-score of -5.48 .\n",
      "98.6 is outside the confidence interval of the z-test for significance.\n",
      "A temperature of 98.6 has a t-score of -5.48 .\n",
      "98.6 is outside the confidence interval of the t-test for significance.\n"
     ]
    }
   ],
   "source": [
    "# 3. Is the true population mean really 98.6 degrees F?\n",
    "\n",
    "# First, try a bootstrap hypothesis test.\n",
    "\n",
    "def draw_bs_reps(data, func, size=1):\n",
    "\n",
    "    # Initialize array of replicates: bs_replicates\n",
    "    bs_replicates = [0] * size\n",
    "\n",
    "    # Generate replicates\n",
    "    for i in range(size):\n",
    "        bs_replicates[i] = func(np.random.choice(data, size=len(data)))\n",
    "\n",
    "    return bs_replicates\n",
    "\n",
    "null_temp = 98.6\n",
    "\n",
    "bootstrap_temp = draw_bs_reps(df['temperature'], np.mean, size=10000)\n",
    "\n",
    "confidence_interval_temp = np.percentile(bootstrap_temp, [2.5, 97.5])\n",
    "\n",
    "print(f'95% confidence interval for the population mean:', confidence_interval_temp)\n",
    "\n",
    "if null_temp > confidence_interval_temp[0] and \\\n",
    "   null_temp < confidence_interval_temp[1]:\n",
    "    print(f'{null_temp} falls within the 95% confidence interval of our bootstrap.')\n",
    "else:\n",
    "    print(f'{null_temp} does not fall within the 95% confidence interval of our bootstrap.')\n",
    "    \n",
    "# Now, let's try frequentist statistical testing. Would you use a one-sample or two-sample test? Why?\n",
    "# In this situation, is it appropriate to use the  tt  or  zz  statistic?\n",
    "\n",
    "'''\n",
    "I would use a one-sample test and a z-statistic because we do not have two means to compare.\n",
    "We are interested in a single population parameter based on a single sample parameter.\n",
    "We are not comparing treatment-vs-control or before-and-after.\n",
    "Our sample size is large, so the difference between the z-test and t-test is minimal.\n",
    "'''\n",
    "\n",
    "z_null_temp = (np.mean(df['temperature']) - 98.6) / (np.std(df['temperature']) / np.sqrt(df['temperature'].count()))\n",
    "\n",
    "print(f'A temperature of 98.6 has a z-score of', round(z_null_temp, 2), '.')\n",
    "\n",
    "if z_null_temp > -1.96 and z_null_temp < 1.96:\n",
    "    print(f'98.6 is within the confidence interval of the z-test for significance.')\n",
    "else:\n",
    "    print(f'98.6 is outside the confidence interval of the z-test for significance.')\n",
    "    \n",
    "# Now try using the other test.\n",
    "\n",
    "t_null_temp = (np.mean(df['temperature']) - 98.6) / (np.std(df['temperature']) / np.sqrt(df['temperature'].count()))\n",
    "\n",
    "print(f'A temperature of 98.6 has a t-score of', round(t_null_temp, 2), '.')\n",
    "\n",
    "if t_null_temp > -1.9785 and t_null_temp < 1.9785:\n",
    "    print(f'98.6 is within the confidence interval of the t-test for significance.')\n",
    "else:\n",
    "    print(f'98.6 is outside the confidence interval of the t-test for significance.')\n",
    "    \n",
    "# How is the result different? Why?\n",
    "\n",
    "# For large n, there is essentially no difference between the z-test and the t-test."
   ]
  },
  {
   "cell_type": "code",
   "execution_count": 5,
   "metadata": {},
   "outputs": [
    {
     "name": "stdout",
     "output_type": "stream",
     "text": [
      "[97.1 97.8 97.9 98.2 98.  98.6 97.9 99.  98.7 98.8]\n",
      "A temperature of 98.6 has a z-score of -2.31 .\n",
      "98.6 is outside the confidence interval of the z-test for significance.\n",
      "A temperature of 98.6 has a t-score of -2.31 .\n",
      "98.6 is outside the confidence interval of the t-test for significance.\n"
     ]
    }
   ],
   "source": [
    "# 4. Draw a small sample of size 10 from the data and repeat both frequentist tests.\n",
    "\n",
    "sample = np.random.choice(df['temperature'], size=10)\n",
    "\n",
    "print(sample)\n",
    "\n",
    "z_null_temp10 = (np.mean(sample) - 98.6) / (np.std(sample) / np.sqrt(10))\n",
    "\n",
    "print(f'A temperature of 98.6 has a z-score of', round(z_null_temp10, 2), '.')\n",
    "\n",
    "if z_null_temp10 > -1.96 and z_null_temp10 < 1.96:\n",
    "    print(f'98.6 is within the confidence interval of the z-test for significance.')\n",
    "else:\n",
    "    print(f'98.6 is outside the confidence interval of the z-test for significance.')\n",
    "    \n",
    "# Now try using the other test.\n",
    "\n",
    "t_null_temp10 = (np.mean(sample) - 98.6) / (np.std(sample) / np.sqrt(10))\n",
    "\n",
    "print(f'A temperature of 98.6 has a t-score of', round(t_null_temp10, 2), '.')\n",
    "\n",
    "if t_null_temp10 > -2.2622 and t_null_temp10 < 2.2622:\n",
    "    print(f'98.6 is within the confidence interval of the t-test for significance.')\n",
    "else:\n",
    "    print(f'98.6 is outside the confidence interval of the t-test for significance.')\n",
    "\n",
    "# Which one is the correct one to use?\n",
    "\n",
    "# The correct test to use is now the t-test, because it gives better approximations for smaller samples.\n",
    "\n",
    "# What do you notice? What does this tell you about the difference in application of the  tt  and  zz  statistic?\n",
    "\n",
    "# In most cases for this data set, the z-test and t-test yield the same result.\n",
    "# This tells me the subtle difference is not worth worrying about.\n",
    "# It appears the t-test approaches the z-test for large values of n.\n",
    "# It would be best to use the t-test in all cases, to avoid the problem with\n",
    "# small sample sizes without losing anything substantial for large ones."
   ]
  },
  {
   "cell_type": "code",
   "execution_count": 6,
   "metadata": {},
   "outputs": [
    {
     "name": "stdout",
     "output_type": "stream",
     "text": [
      "The experiment gave us these bounds: [98.12367980442819, 98.37478173403336]\n",
      "The confidence interval for the lower bound is: [96.6209121  97.25685552]\n",
      "The confidence interval for the upper bound is: [99.2882852  99.87494823]\n",
      "Any temperature lower than 98.12367980442819 or higher than 98.37478173403336 is abnormal.\n"
     ]
    }
   ],
   "source": [
    "# 5. At what temperature should we consider someone's temperature to be \"abnormal\"?\n",
    "\n",
    "# Let's consider any temperature outside the margin of error 'abnormal'.\n",
    "# Let's continue with 95% confidence for setting the margin of error.\n",
    "# 95% confidence is attained at the mean +/- 1.96 standard deviations.\n",
    "\n",
    "# Bootstrap Method\n",
    "\n",
    "def abnormal_calc(data):\n",
    "    \n",
    "    lower = np.mean(data) - np.std(data) * 1.96\n",
    "    \n",
    "    upper = np.mean(data) + np.std(data) * 1.96\n",
    "    \n",
    "    return [lower, upper]\n",
    "\n",
    "# We are getting a bootstrap list of lower boundaries and upper boundaries.\n",
    "\n",
    "bootstrap_ab = draw_bs_reps(df['temperature'], abnormal_calc, size=10000)\n",
    "\n",
    "# Separate the lower and upper bounds into their own lists.\n",
    "\n",
    "lower_bound, upper_bound = [a for a, b in bootstrap_ab], [b for a, b in bootstrap_ab]\n",
    "\n",
    "# Determine a confidence interval for each. Using a left-tail for the lower bound\n",
    "# and a right-tail for the upper, because the extreme values only occur on one side\n",
    "# for each of these calculations.\n",
    "\n",
    "lower_bound_conf = np.percentile(lower_bound, [5, 100])\n",
    "\n",
    "upper_bound_conf = np.percentile(upper_bound, [0, 95])\n",
    "\n",
    "# Frequentist Method: Determine the margin of error based on a z-test.\n",
    "# The margin of error is the mean +/- 1.96 standard errors,\n",
    "# and the standard error is stdev / sqrt(number of data points)\n",
    "\n",
    "standard_error = np.std(df['temperature']) / np.sqrt(df['temperature'].count())\n",
    "\n",
    "lower_margin = np.mean(df['temperature']) - (1.96 * standard_error)\n",
    "                                                   \n",
    "upper_margin = np.mean(df['temperature']) + (1.96 * standard_error)\n",
    "\n",
    "bounds = [lower_margin, upper_margin]\n",
    "\n",
    "print(f'The experiment gave us these bounds:', bounds)\n",
    "\n",
    "print(f'The confidence interval for the lower bound is:', lower_bound_conf)\n",
    "\n",
    "print(f'The confidence interval for the upper bound is:', upper_bound_conf)\n",
    "\n",
    "# The empirical bounds fit within our bootstrapped confidence interval, so we'll use them.\n",
    "\n",
    "print(f'Any temperature lower than {bounds[0]} or higher than {bounds[1]} is abnormal.')"
   ]
  },
  {
   "cell_type": "code",
   "execution_count": 3,
   "metadata": {},
   "outputs": [
    {
     "name": "stdout",
     "output_type": "stream",
     "text": [
      "The empirical difference between male and female temperature is: -0.289230769230727\n",
      "The p-value is: 0.9879\n",
      "The null hypothesis—the difference equaling zero—is well within our confidence interval, as is our observed result.\n"
     ]
    }
   ],
   "source": [
    "# Is there a significant difference between males and females in normal temperature?\n",
    "\n",
    "gender_difference = np.mean(df[df['gender'] == 'M']['temperature']) - np.mean(df[df['gender'] == 'F']['temperature'])\n",
    "\n",
    "def draw_perm_reps(data_1, data_2, func, size=1):\n",
    "    \n",
    "    # Initialize an empty array of replicates\n",
    "    perm_replicates = np.empty(size)\n",
    "    \n",
    "    data = np.concatenate((data_1, data_2))\n",
    "    \n",
    "    for i in range(size):\n",
    "        \n",
    "        # Scramble the data\n",
    "        data = np.random.permutation(data)\n",
    "        \n",
    "        # Generate a permuation\n",
    "        perm_1, perm_2 = data[:len(data_1)], data[len(data_1):]\n",
    "        \n",
    "        # Compute the test statistic\n",
    "        perm_replicates[i] = func(perm_1, perm_2)\n",
    "        \n",
    "    return perm_replicates\n",
    "\n",
    "def diff_of_means(data_1, data_2):\n",
    "    \n",
    "    return np.mean(data_1) - np.mean(data_2)\n",
    "\n",
    "m = df[df['gender'] == 'M']\n",
    "f = df[df['gender'] == 'F']\n",
    "\n",
    "gender_perm_test = draw_perm_reps(m.temperature, f.temperature, diff_of_means, 10000)\n",
    "\n",
    "p = np.sum(gender_perm_test >= gender_difference) / len(gender_perm_test)\n",
    "\n",
    "print(f'The empirical difference between male and female temperature is:', gender_difference)\n",
    "\n",
    "print(f'The p-value is:', p)\n",
    "\n",
    "# This p-value is well above our significance limit of .05; we fail to reject the null hypothesis.\n",
    "# The empirically observed difference is quite likely to have resulted from random chance.\n",
    "\n",
    "# What testing approach did you use and why?\n",
    "\n",
    "# I used a permutation test to determine how likely the observed difference in means was to be random chance."
   ]
  },
  {
   "cell_type": "markdown",
   "metadata": {},
   "source": [
    "Write a story with your conclusion in the context of the original problem.\n",
    "\n",
    "We sought to determine whether there was a statistically significant difference between the normal temperatures of males and females. We began by assuming there is actually no difference. We sorted the data into two groups, male and female, and taking the difference between the means of each group. If there were no difference in body temperature, we would expect the difference of the means to be reasonably close to zero, and it was. From there, we wanted to create a confidence interval giving some insight into how widely the difference in means could have varied. So we began with this premise: if gender has absolutely no effect on body temperature, then sorting the data into piles by gender should be just the same as if we had sorted the data into two piles completely randomly. So we did this random process 10,000 times, found the means of the piles, and took the difference of those means. Doing this gave us 10,000 simulations of the difference in means of genders, *assuming gender has no effect on temperature.* Then we checked our empirical observation to see if it was very different from our simulations. The observed difference, in fact, falls very close to the middle of our confidence interval. So we have no reason to reject the null hypothesis. We should continue believing there is no difference between body temperature for males and females."
   ]
  },
  {
   "cell_type": "code",
   "execution_count": null,
   "metadata": {},
   "outputs": [],
   "source": []
  }
 ],
 "metadata": {
  "kernelspec": {
   "display_name": "Python 3",
   "language": "python",
   "name": "python3"
  },
  "language_info": {
   "codemirror_mode": {
    "name": "ipython",
    "version": 3
   },
   "file_extension": ".py",
   "mimetype": "text/x-python",
   "name": "python",
   "nbconvert_exporter": "python",
   "pygments_lexer": "ipython3",
   "version": "3.6.4"
  }
 },
 "nbformat": 4,
 "nbformat_minor": 1
}
